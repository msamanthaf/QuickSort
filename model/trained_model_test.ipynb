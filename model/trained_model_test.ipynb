{
 "cells": [
  {
   "cell_type": "markdown",
   "metadata": {},
   "source": [
    "## pytorch"
   ]
  },
  {
   "cell_type": "code",
   "execution_count": null,
   "metadata": {},
   "outputs": [],
   "source": [
    "import torch\n",
    "import torchvision.transforms as transforms\n",
    "from PIL import Image\n",
    "\n",
    "# Assuming the ResNet class is already defined\n",
    "# model = ResNet()\n",
    "\n",
    "# Load the model\n",
    "model = ResNet()  # Create an instance of the model class\n",
    "model.load_state_dict(torch.load('garbage_classification_model_cpu.pth', map_location='cpu'))\n",
    "\n",
    "# Put the model in evaluation mode\n",
    "model.eval()\n",
    "\n",
    "def predict(image_path):\n",
    "    # Define the same transformations applied on the training data\n",
    "    transform = transforms.Compose([\n",
    "        transforms.Resize((256, 256)),  # same as the ones during training & converting to tensor\n",
    "        transforms.ToTensor(),\n",
    "    ])\n",
    "\n",
    "    # Open the image and apply the transformations\n",
    "    image = Image.open(image_path)\n",
    "    image = transform(image).unsqueeze(0)  # Add batch dimension\n",
    "\n",
    "    # Forward pass\n",
    "    with torch.no_grad():  # Deactivate gradients for prediction\n",
    "        outputs = model(image)\n",
    "        # If the model outputs logits, apply softmax to get probabilities\n",
    "        predictions = torch.nn.functional.softmax(outputs, dim=1)\n",
    "        predicted_class = torch.argmax(predictions, dim=1)\n",
    "\n",
    "    return predicted_class.item()\n",
    "\n",
    "# Use the function\n"
   ]
  },
  {
   "cell_type": "code",
   "execution_count": null,
   "metadata": {},
   "outputs": [],
   "source": [
    "image_path = \"path_to_your_image.jpg\"\n",
    "print(f\"Predicted class: {predict(image_path)}\")"
   ]
  },
  {
   "cell_type": "markdown",
   "metadata": {},
   "source": [
    "## ONNX"
   ]
  },
  {
   "cell_type": "code",
   "execution_count": 9,
   "metadata": {},
   "outputs": [],
   "source": [
    "import onnxruntime as ort\n",
    "import numpy as np\n",
    "from PIL import Image\n",
    "import torchvision.transforms as transforms\n",
    "\n",
    "def predict_onnx(image_path):\n",
    "    # Start an inference session\n",
    "    ort_session = ort.InferenceSession('C:\\\\Users\\\\wilpg\\\\Documents\\\\GitHub\\\\HackHarvard2023\\\\model\\\\trained_models\\\\garbage_classification_model.onnx')\n",
    "\n",
    "    # Define the same transformations applied during training\n",
    "    transform = transforms.Compose([\n",
    "        transforms.Resize((256, 256)),\n",
    "        transforms.ToTensor(),\n",
    "    ])\n",
    "\n",
    "    # Open the image and apply the transformations\n",
    "    image = Image.open(image_path)\n",
    "    image = transform(image).unsqueeze(0).numpy()  # Convert to numpy array\n",
    "\n",
    "    # Prepare input data (matching the input name from when we exported the model)\n",
    "    ort_inputs = {ort_session.get_inputs()[0].name: image}\n",
    "\n",
    "    # Forward pass\n",
    "    ort_outs = ort_session.run(None, ort_inputs)\n",
    "    predictions = ort_outs[0]\n",
    "\n",
    "    # If the model outputs logits, you might want to apply a softmax function to get probabilities\n",
    "    # However, if it's a multi-class classification, you can directly get the final predicted class like this\n",
    "    predicted_class = np.argmax(predictions, axis=1)\n",
    "\n",
    "    return predicted_class[0]\n",
    "\n",
    "# Use the function"
   ]
  },
  {
   "cell_type": "code",
   "execution_count": 16,
   "metadata": {},
   "outputs": [
    {
     "name": "stdout",
     "output_type": "stream",
     "text": [
      "Predicted class: 5\n"
     ]
    }
   ],
   "source": [
    "image_path = \"C:\\\\Users\\\\wilpg\\\\Documents\\\\GitHub\\\\HackHarvard2023\\\\data\\\\garbage_classification\\\\trash\\\\trash1.jpg\"\n",
    "print(f\"Predicted class: {predict_onnx(image_path)}\")\n"
   ]
  }
 ],
 "metadata": {
  "kernelspec": {
   "display_name": "hackharvard2023",
   "language": "python",
   "name": "python3"
  },
  "language_info": {
   "codemirror_mode": {
    "name": "ipython",
    "version": 3
   },
   "file_extension": ".py",
   "mimetype": "text/x-python",
   "name": "python",
   "nbconvert_exporter": "python",
   "pygments_lexer": "ipython3",
   "version": "3.11.6"
  }
 },
 "nbformat": 4,
 "nbformat_minor": 2
}
